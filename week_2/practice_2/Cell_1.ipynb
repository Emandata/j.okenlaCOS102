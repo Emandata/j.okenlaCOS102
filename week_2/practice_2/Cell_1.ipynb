{
 "cells": [
  {
   "cell_type": "code",
   "id": "initial_id",
   "metadata": {
    "collapsed": true,
    "jupyter": {
     "is_executing": true
    }
   },
   "source": [
    "state_of_origin = input(\"Enter your state of origin: \")\n",
    "\n",
    "print(\"Your state of origin is: \", state_of_origin)\n",
    "print(\"The first character is: \", state_of_origin[0])\n",
    "print(\"The characters starting from 3rd to 5th are: \", state_of_origin[2:5])\n",
    "print(\"The string starting from 3rd character is: \", state_of_origin[2:])\n",
    "print(\"State of origin two times: \", state_of_origin * 2)\n"
   ],
   "outputs": [],
   "execution_count": null
  }
 ],
 "metadata": {
  "kernelspec": {
   "display_name": "Python 3",
   "language": "python",
   "name": "python3"
  },
  "language_info": {
   "codemirror_mode": {
    "name": "ipython",
    "version": 2
   },
   "file_extension": ".py",
   "mimetype": "text/x-python",
   "name": "python",
   "nbconvert_exporter": "python",
   "pygments_lexer": "ipython2",
   "version": "2.7.6"
  }
 },
 "nbformat": 4,
 "nbformat_minor": 5
}
