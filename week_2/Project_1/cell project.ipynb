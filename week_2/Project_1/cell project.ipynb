{
 "cells": [
  {
   "cell_type": "code",
   "execution_count": null,
   "id": "initial_id",
   "metadata": {
    "collapsed": true
   },
   "outputs": [],
   "source": [
    "import numpy as np\n",
    "import sympy as sp\n",
    "\n",
    "def quadratic_roots(a, b, c):\n",
    "    # Solving Ax^2 + Bx + C = 0\n",
    "    discriminant = b**2 - 4*a*c\n",
    "    if discriminant > 0:\n",
    "        root1 = (-b + np.sqrt(discriminant)) / (2*a)\n",
    "        root2 = (-b - np.sqrt(discriminant)) / (2*a)\n",
    "        return f\"Two real roots: {root1}, {root2}\"\n",
    "    elif discriminant == 0:\n",
    "        root = -b / (2*a)\n",
    "        return f\"One real root: {root}\"\n",
    "    else:\n",
    "        real_part = -b / (2*a)\n",
    "        imaginary_part = np.sqrt(-discriminant) / (2*a)\n",
    "        return f\"Two complex roots: {real_part} ± {imaginary_part}i\"\n",
    "\n",
    "def cubic_roots(a, b, c, d):\n",
    "    # Solving Ax^3 + Bx^2 + Cx + D = 0\n",
    "    x = sp.symbols('x')\n",
    "    equation = a*x**3 + b*x**2 + c*x + d\n",
    "    roots = sp.solve(equation, x)\n",
    "    return f\"Roots: {roots}\"\n",
    "\n",
    "def quartic_roots(a, b, c, d, e):\n",
    "    # Solving Ax^4 + Bx^3 + Cx^2 + Dx + E = 0\n",
    "    x = sp.symbols('x')\n",
    "    equation = a*x**4 + b*x**3 + c*x**2 + d*x + e\n",
    "    roots = sp.solve(equation, x)\n",
    "    return f\"Roots: {roots}\"\n",
    "\n",
    "def main():\n",
    "    print(\"Choose the type of equation to solve:\")\n",
    "    print(\"1. Quadratic (Ax^2 + Bx + C = 0)\")\n",
    "    print(\"2. Cubic (Ax^3 + Bx^2 + Cx + D = 0)\")\n",
    "    print(\"3. Quartic (Ax^4 + Bx^3 + Cx^2 + Dx + E = 0)\")\n",
    "\n",
    "    choice = int(input(\"Enter your choice (1/2/3): \"))\n",
    "\n",
    "    if choice == 1:\n",
    "        a = float(input(\"Enter coefficient A: \"))\n",
    "        b = float(input(\"Enter coefficient B: \"))\n",
    "        c = float(input(\"Enter coefficient C: \"))\n",
    "        print(quadratic_roots(a, b, c))\n",
    "    elif choice == 2:\n",
    "        a = float(input(\"Enter coefficient A: \"))\n",
    "        b = float(input(\"Enter coefficient B: \"))\n",
    "        c = float(input(\"Enter coefficient C: \"))\n",
    "        d = float(input(\"Enter coefficient D: \"))\n",
    "        print(cubic_roots(a, b, c, d))\n",
    "    elif choice == 3:\n",
    "        a = float(input(\"Enter coefficient A: \"))\n",
    "        b = float(input(\"Enter coefficient B: \"))\n",
    "        c = float(input(\"Enter coefficient C: \"))\n",
    "        d = float(input(\"Enter coefficient D: \"))\n",
    "        e = float(input(\"Enter coefficient E: \"))\n",
    "        print(quartic_roots(a, b, c, d, e))\n",
    "    else:\n",
    "        print(\"Invalid choice. Please try again.\")\n",
    "\n",
    "if __name__ == \"__main__\":\n",
    "    main()\n"
   ]
  }
 ],
 "metadata": {
  "kernelspec": {
   "display_name": "Python 3",
   "language": "python",
   "name": "python3"
  },
  "language_info": {
   "codemirror_mode": {
    "name": "ipython",
    "version": 2
   },
   "file_extension": ".py",
   "mimetype": "text/x-python",
   "name": "python",
   "nbconvert_exporter": "python",
   "pygments_lexer": "ipython2",
   "version": "2.7.6"
  }
 },
 "nbformat": 4,
 "nbformat_minor": 5
}
