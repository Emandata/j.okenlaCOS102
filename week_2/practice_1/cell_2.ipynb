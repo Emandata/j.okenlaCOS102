{
 "cells": [
  {
   "cell_type": "code",
   "id": "initial_id",
   "metadata": {
    "collapsed": true,
    "jupyter": {
     "is_executing": true
    }
   },
   "source": [
    "# Input from user\n",
    "m = float(input(\"Enter mass in kilograms: \"))\n",
    "\n",
    "# Constant value for the speed of Light in m/s\n",
    "c = 299792458\n",
    "\n",
    "# Calculating energy using Einstein's equation\n",
    "energy = m * c ** 2\n",
    "\n",
    "# Displaying the result\n",
    "print(f\"The energy equivalent to {m} kg of mass is {energy} joules.\")\n"
   ],
   "outputs": [],
   "execution_count": null
  }
 ],
 "metadata": {
  "kernelspec": {
   "display_name": "Python 3",
   "language": "python",
   "name": "python3"
  },
  "language_info": {
   "codemirror_mode": {
    "name": "ipython",
    "version": 2
   },
   "file_extension": ".py",
   "mimetype": "text/x-python",
   "name": "python",
   "nbconvert_exporter": "python",
   "pygments_lexer": "ipython2",
   "version": "2.7.6"
  }
 },
 "nbformat": 4,
 "nbformat_minor": 5
}
