{
 "cells": [
  {
   "cell_type": "code",
   "execution_count": null,
   "id": "initial_id",
   "metadata": {
    "collapsed": true
   },
   "outputs": [],
   "source": [
    "# COUPE DE ESCRIVA 2023: FOOTBALL PICKS\n",
    "\n",
    "print(\"Welcome to the COUPE DE ESCRIVA 2023: FOOTBALL PICKS \\n\")\n",
    "\n",
    "captain = {\n",
    "    'Madiba: ': 'Chubby Obiora-Okafor',\n",
    "    'Blue-Jays: ': 'Christopher Uweh',\n",
    "    'Cirok: ': 'Alexander',\n",
    "    'TSG Walkers: ': 'Ikechukwu'\n",
    "}\n",
    "\n",
    "goalkeepers = {\n",
    "    'Madiba: ': 'Chubby Obiora-Okafor',\n",
    "    'Blue-Jays: ': 'Oladimeji Abaniwondea/Jeffery Awagu',\n",
    "    'Cirok: ': 'Timileyin Pearse/Izuako Jeremy',\n",
    "    'TSG Walkers: ': 'Ayomide Ojituku'\n",
    "}\n",
    "\n",
    "for pick in captain:\n",
    "    print(pick, captain[pick])\n",
    "\n",
    "print(\"\\n\")\n",
    "\n",
    "for pick in goalkeepers:\n",
    "    print(pick, goalkeepers[pick])\n"
   ]
  }
 ],
 "metadata": {
  "kernelspec": {
   "display_name": "Python 3",
   "language": "python",
   "name": "python3"
  },
  "language_info": {
   "codemirror_mode": {
    "name": "ipython",
    "version": 2
   },
   "file_extension": ".py",
   "mimetype": "text/x-python",
   "name": "python",
   "nbconvert_exporter": "python",
   "pygments_lexer": "ipython2",
   "version": "2.7.6"
  }
 },
 "nbformat": 4,
 "nbformat_minor": 5
}
