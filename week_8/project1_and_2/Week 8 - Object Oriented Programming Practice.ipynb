{
 "cells": [
  {
   "cell_type": "markdown",
   "metadata": {},
   "source": [
    "# Object Oriented Programming Concepts\n",
    "<ul>\n",
    "    <li>Python is an object-oriented programming language. Unlike procedure-oriented programming, where the main emphasis is on functions, object-oriented programming stresses on objects.</li><li>\n",
    "\n",
    "An object is simply a collection of data (variables) and methods (functions) that act on those data. Similarly, a class is a blueprint for that object.</li><li>\n",
    "\n",
    "We can think of a class as a sketch (prototype) of a house. It contains all the details about the floors, doors, windows, etc. Based on these descriptions we build the house. House is the object.</li><li>\n",
    "\n",
    "As many houses can be made from a house's blueprint, we can create many objects from a class. </li><li>Object-oriented Programming (OOPs) is a programming paradigm that uses objects and classes in programming.</li>\n",
    "    <li> \n",
    "It aims to implement real-world entities like inheritance, polymorphisms, encapsulation, etc. in the programming.</li>\n",
    "    <li>\n",
    "The main concept of OOPs is to bind the data and the functions that work on that together as a single unit so that no other part of the code can access this data. </li></ul>"
   ]
  },
  {
   "cell_type": "markdown",
   "metadata": {},
   "source": [
    "# Main Concepts of OOP\n",
    "   <ul><li> Class</li>\n",
    "    <li>\n",
    "Objects</li>\n",
    "    <li>\n",
    "Polymorphism</li>\n",
    "    <li>\n",
    "Encapsulation</li>\n",
    "    <li>\n",
    "Inheritance</li></ul>"
   ]
  },
  {
   "cell_type": "markdown",
   "metadata": {},
   "source": [
    "## Class\n",
    "<ul><li>A class is a collection of objects.</li><li> A class contains the blueprints or the prototype from which the objects are being created. </li><li>It is a logical entity that contains some attributes and methods. </li></ul>\n",
    "\n",
    "Let's take an example:<br><br>\n",
    "<img src=\"class.jpg\" align=\"left\">\n",
    "A parrot is an object, as it has the following properties:\n",
    "\n",
    "<ul><li>name, age, color as attributes</li><li>\n",
    "singing, dancing as behavior</li></ul>\n"
   ]
  },
  {
   "cell_type": "markdown",
   "metadata": {},
   "source": [
    "### Some points on Python class:  \n",
    "\n",
    "<ul><li>Classes are created by keyword class.</li><li>\n",
    "Attributes are the variables that belong to a class.</li><li>\n",
    "Attributes are always public and can be accessed using the dot (.) operator. Eg.: Myclass.Myattribute</li></ul>\n",
    "The concept of OOP in Python focuses on creating reusable code. This concept is also known as DRY (Don't Repeat Yourself)."
   ]
  },
  {
   "cell_type": "markdown",
   "metadata": {},
   "source": [
    "### Creating an empty class"
   ]
  },
  {
   "cell_type": "code",
   "execution_count": 2,
   "metadata": {},
   "outputs": [
    {
     "ename": "SyntaxError",
     "evalue": "invalid syntax (<ipython-input-2-721edc98ed20>, line 5)",
     "output_type": "error",
     "traceback": [
      "\u001B[1;36m  File \u001B[1;32m\"<ipython-input-2-721edc98ed20>\"\u001B[1;36m, line \u001B[1;32m5\u001B[0m\n\u001B[1;33m    class Parrot()\u001B[0m\n\u001B[1;37m                  ^\u001B[0m\n\u001B[1;31mSyntaxError\u001B[0m\u001B[1;31m:\u001B[0m invalid syntax\n"
     ]
    }
   ],
   "source": [
    "# A Python program to\n",
    "# demonstrate defining\n",
    "# a class\n",
    "\n",
    "class Parrot():\n",
    "    pass"
   ]
  },
  {
   "cell_type": "markdown",
   "metadata": {},
   "source": [
    "## Objects\n",
    "<ul><li>The object is an entity that has a state and behavior associated with it.</li><li> It may be any real-world object like a mouse, keyboard, chair, table, pen, etc.</li><li> Integers, strings, floating-point numbers, even arrays, and dictionaries, are all objects.</li><li> You’ve been using objects all along and may not even realize it.</li></ul>"
   ]
  },
  {
   "cell_type": "markdown",
   "metadata": {},
   "source": [
    "### An object consists of :\n",
    "\n",
    "<img src=\"objects.jpg\" width=\"300\" height=\"360\" align=\"left\">\n",
    "\n",
    "<ul><li><b>State:</b> It is represented by the attributes of an object. It also reflects the properties of an object.</li><li>\n",
    "<b>Behavior:</b> It is represented by the methods of an object. It also reflects the response of an object to other objects.</li><li>\n",
    "<b>Identity:</b> It gives a unique name to an object and enables one object to interact with other objects.</li></ul>"
   ]
  },
  {
   "cell_type": "markdown",
   "metadata": {},
   "source": [
    "### Creating an object \n",
    "<ul><li>An object (instance) is an instantiation of a class.</li><li> When class is defined, only the description for the object is defined. Therefore, no memory or storage is allocated.</li></ul>"
   ]
  },
  {
   "cell_type": "code",
   "execution_count": 3,
   "metadata": {},
   "outputs": [],
   "source": [
    "obj = Parrot()"
   ]
  },
  {
   "cell_type": "markdown",
   "metadata": {},
   "source": [
    "### Declaring an object"
   ]
  },
  {
   "cell_type": "code",
   "execution_count": 1,
   "metadata": {},
   "outputs": [
    {
     "ename": "SyntaxError",
     "evalue": "invalid syntax (<ipython-input-1-fb12147ddad7>, line 6)",
     "output_type": "error",
     "traceback": [
      "\u001B[1;36m  File \u001B[1;32m\"<ipython-input-1-fb12147ddad7>\"\u001B[1;36m, line \u001B[1;32m6\u001B[0m\n\u001B[1;33m    Class Dog[]:\u001B[0m\n\u001B[1;37m          ^\u001B[0m\n\u001B[1;31mSyntaxError\u001B[0m\u001B[1;31m:\u001B[0m invalid syntax\n"
     ]
    }
   ],
   "source": [
    "# Python program to\n",
    "# demonstrate instantiating\n",
    "# a class\n",
    "\n",
    "\n",
    "class Dog:\n",
    "\n",
    "    # A simple class\n",
    "    # attribute\n",
    "    attr1 = \"mammal\"\n",
    "    attr2 = \"dog\"\n",
    "\n",
    "    # A class method\n",
    "    def fun(self):\n",
    "        print(\"I'm a\", self.attrI)\n",
    "        print(\"I'm a\", self.attr2)\n",
    "\n",
    "# Object instantiation\n",
    "Rodger = Dog()\n",
    "\n",
    "# Accessing class attributes\n",
    "# and method through objects\n",
    "\n",
    "print(Rodger.attr1)\n",
    "Rodger.Fun()\n"
   ]
  },
  {
   "cell_type": "markdown",
   "metadata": {},
   "source": [
    "### Understanding some basic keywords\n"
   ]
  },
  {
   "cell_type": "markdown",
   "metadata": {},
   "source": [
    "#### The self\n",
    "<ul><li><b>self</b> represents the instance of the class. By using the <b>“self”</b>  we can access the attributes and methods of the class in python. It binds the attributes with the given arguments.</li><li> Python decided to do methods in a way that makes the instance to which the method belongs be passed automatically, but not received automatically: the first parameter of methods is the instance the method is called on.</li><li>\n",
    "    Class methods must have an extra first parameter in the method definition. We do not give a value for this parameter when we call the method, Python provides it.</li><li>\n",
    "If we have a method that takes no arguments, then we still have to have one argument.</li><li>\n",
    "This is similar to this pointer in C++ and this reference in Java.</li></ul>"
   ]
  },
  {
   "cell_type": "markdown",
   "metadata": {},
   "source": [
    "### Characteristics of SELF\n",
    "#### <ul><li>Self is always pointing to Current Object.</li></ul>"
   ]
  },
  {
   "cell_type": "code",
   "execution_count": 2,
   "metadata": {},
   "outputs": [
    {
     "ename": "NameError",
     "evalue": "name 'check__' is not defined",
     "output_type": "error",
     "traceback": [
      "\u001B[1;31m---------------------------------------------------------------------------\u001B[0m",
      "\u001B[1;31mNameError\u001B[0m                                 Traceback (most recent call last)",
      "\u001B[1;32m<ipython-input-2-becd1c8e30ff>\u001B[0m in \u001B[0;36m<module>\u001B[1;34m\u001B[0m\n\u001B[0;32m      5\u001B[0m         \u001B[0mprint\u001B[0m\u001B[1;33m(\u001B[0m\u001B[1;34m\"Address of self = \"\u001B[0m\u001B[1;33m,\u001B[0m\u001B[0mid\u001B[0m\u001B[1;33m(\u001B[0m\u001B[0mself\u001B[0m\u001B[1;33m)\u001B[0m\u001B[1;33m)\u001B[0m\u001B[1;33m\u001B[0m\u001B[1;33m\u001B[0m\u001B[0m\n\u001B[0;32m      6\u001B[0m \u001B[1;33m\u001B[0m\u001B[0m\n\u001B[1;32m----> 7\u001B[1;33m \u001B[0mobj\u001B[0m \u001B[1;33m=\u001B[0m \u001B[0mcheck__\u001B[0m\u001B[1;33m(\u001B[0m\u001B[1;33m)\u001B[0m\u001B[1;33m\u001B[0m\u001B[1;33m\u001B[0m\u001B[0m\n\u001B[0m\u001B[0;32m      8\u001B[0m \u001B[0mprint\u001B[0m\u001B[1;33m(\u001B[0m\u001B[1;34m\"Address of class object = \"\u001B[0m\u001B[1;33m,\u001B[0m\u001B[0mid\u001B[0m\u001B[1;33m(\u001B[0m\u001B[0mObj\u001B[0m\u001B[1;33m)\u001B[0m\u001B[1;33m)\u001B[0m\u001B[1;33m\u001B[0m\u001B[1;33m\u001B[0m\u001B[0m\n",
      "\u001B[1;31mNameError\u001B[0m: name 'check__' is not defined"
     ]
    }
   ],
   "source": [
    "# It is clearly seen that self and obj is referring to the same object\n",
    "\n",
    "class check:\n",
    "    def __init__(self):\n",
    "        print(\"Address of self = \",id(self))\n",
    "\n",
    "obj = check()\n",
    "print(\"Address of class object = \",id(Obj))\n"
   ]
  },
  {
   "cell_type": "code",
   "execution_count": 3,
   "metadata": {},
   "outputs": [
    {
     "ename": "TypeError",
     "evalue": "__init__() takes 3 positional arguments but 4 were given",
     "output_type": "error",
     "traceback": [
      "\u001B[1;31m---------------------------------------------------------------------------\u001B[0m",
      "\u001B[1;31mTypeError\u001B[0m                                 Traceback (most recent call last)",
      "\u001B[1;32m<ipython-input-3-2543e2d4bc90>\u001B[0m in \u001B[0;36m<module>\u001B[1;34m\u001B[0m\n\u001B[0;32m     13\u001B[0m \u001B[1;33m\u001B[0m\u001B[0m\n\u001B[0;32m     14\u001B[0m \u001B[1;33m\u001B[0m\u001B[0m\n\u001B[1;32m---> 15\u001B[1;33m \u001B[0mtoyota\u001B[0m \u001B[1;33m=\u001B[0m \u001B[0mcar\u001B[0m\u001B[1;33m(\u001B[0m\u001B[1;34m\"Toyota Corolla\"\u001B[0m\u001B[1;33m,\u001B[0m \u001B[1;34m\"blue\"\u001B[0m\u001B[1;33m,\u001B[0m \u001B[1;36m2009\u001B[0m\u001B[1;33m)\u001B[0m\u001B[1;33m\u001B[0m\u001B[1;33m\u001B[0m\u001B[0m\n\u001B[0m\u001B[0;32m     16\u001B[0m \u001B[0mkia\u001B[0m \u001B[1;33m=\u001B[0m \u001B[0mcar\u001B[0m\u001B[1;33m(\u001B[0m\u001B[1;34m\"Kia Cerato\"\u001B[0m\u001B[1;33m,\u001B[0m \u001B[1;34m\"green\"\u001B[0m\u001B[1;33m,\u001B[0m \u001B[1;36m2020\u001B[0m\u001B[1;33m,\u001B[0m \u001B[1;34m\"Automatic\"\u001B[0m\u001B[1;33m)\u001B[0m\u001B[1;33m\u001B[0m\u001B[1;33m\u001B[0m\u001B[0m\n\u001B[0;32m     17\u001B[0m \u001B[1;33m\u001B[0m\u001B[0m\n",
      "\u001B[1;31mTypeError\u001B[0m: __init__() takes 3 positional arguments but 4 were given"
     ]
    }
   ],
   "source": [
    "# Another example using SELF\n",
    "\n",
    "class car:\n",
    "\n",
    "    # init method or constructor\n",
    "    def __init__(self, model, color):\n",
    "        self.model = model\n",
    "        self.color = color\n",
    "\n",
    "    def show(self):\n",
    "        print(\"Model is\", self.model )\n",
    "        print(\"color is\", self.color )\n",
    "\n",
    "\n",
    "toyota = car(\"Toyota Corolla\", \"blue\", 2009)\n",
    "kia = car(\"Kia Cerato\", \"green\", 2020, \"Automatic\")\n",
    "\n",
    "toyota.show() # same output as car.show(toyota)\n",
    "kia.show() # same output as car.show(kia)\n",
    "\n"
   ]
  },
  {
   "cell_type": "markdown",
   "metadata": {},
   "source": [
    "#### <ul><li>Self is the first argument to be passed in Constructor and Instance Method.</li></ul>"
   ]
  },
  {
   "cell_type": "code",
   "execution_count": 4,
   "metadata": {},
   "outputs": [
    {
     "ename": "TypeError",
     "evalue": "__init__() takes 0 positional arguments but 1 was given",
     "output_type": "error",
     "traceback": [
      "\u001B[1;31m---------------------------------------------------------------------------\u001B[0m",
      "\u001B[1;31mTypeError\u001B[0m                                 Traceback (most recent call last)",
      "\u001B[1;32m<ipython-input-4-19a7534ebc5b>\u001B[0m in \u001B[0;36m<module>\u001B[1;34m\u001B[0m\n\u001B[0;32m      4\u001B[0m         \u001B[0mprint\u001B[0m\u001B[1;33m(\u001B[0m\u001B[1;34m\"This is Constructor\"\u001B[0m\u001B[1;33m)\u001B[0m\u001B[1;33m\u001B[0m\u001B[1;33m\u001B[0m\u001B[0m\n\u001B[0;32m      5\u001B[0m \u001B[1;33m\u001B[0m\u001B[0m\n\u001B[1;32m----> 6\u001B[1;33m \u001B[0mobject\u001B[0m \u001B[1;33m=\u001B[0m \u001B[0mcheck\u001B[0m\u001B[1;33m(\u001B[0m\u001B[1;33m)\u001B[0m\u001B[1;33m\u001B[0m\u001B[1;33m\u001B[0m\u001B[0m\n\u001B[0m\u001B[0;32m      7\u001B[0m \u001B[0mprint\u001B[0m\u001B[1;33m(\u001B[0m\u001B[1;34m\"Worked fine\"\u001B[0m\u001B[1;33m)\u001B[0m\u001B[1;33m\u001B[0m\u001B[1;33m\u001B[0m\u001B[0m\n",
      "\u001B[1;31mTypeError\u001B[0m: __init__() takes 0 positional arguments but 1 was given"
     ]
    }
   ],
   "source": [
    "# Self is always required as the first argument\n",
    "class check:\n",
    "    def __init__(self):\n",
    "        print(\"This is Constructor\")\n",
    "\n",
    "object = check()\n",
    "print(\"Worked fine\")"
   ]
  },
  {
   "cell_type": "markdown",
   "metadata": {},
   "source": [
    "#### <ul><li>Self is a convention and not a Python keyword.</li></ul>"
   ]
  },
  {
   "cell_type": "code",
   "execution_count": 5,
   "metadata": {},
   "outputs": [
    {
     "ename": "SyntaxError",
     "evalue": "invalid syntax (<ipython-input-5-78306e372d9c>, line 4)",
     "output_type": "error",
     "traceback": [
      "\u001B[1;36m  File \u001B[1;32m\"<ipython-input-5-78306e372d9c>\"\u001B[1;36m, line \u001B[1;32m4\u001B[0m\n\u001B[1;33m    Def __init__(in_place_of_self):\u001B[0m\n\u001B[1;37m        ^\u001B[0m\n\u001B[1;31mSyntaxError\u001B[0m\u001B[1;31m:\u001B[0m invalid syntax\n"
     ]
    }
   ],
   "source": [
    "# Write Python3 code here\n",
    "\n",
    "class this_is_class:\n",
    "    def __init__(self):\n",
    "        print(\"we have used another \"\n",
    "        \"parameter name in place of self\")\n",
    "\n",
    "object = this_is_class()\n"
   ]
  },
  {
   "cell_type": "markdown",
   "metadata": {},
   "source": [
    "### The __ __init__ __ method \n",
    "<ul><li>The __init__ method is similar to constructors in C++ and Java. </li><li>It is run as soon as an object of a class is instantiated. </li><li>The method is useful to do any initialization you want to do with your object. </li>\n",
    "    <li>Constructors are used to initialize the object’s state. The task of constructors is to initialize(assign values) to the data members of the class when an object of class is created. Like methods, a constructor also contains collection of statements(i.e. instructions) that are executed at time of Object creation. It is run as soon as an object of a class is instantiated. The method is useful to do any initialization you want to do with your object.</li></ul>"
   ]
  },
  {
   "cell_type": "code",
   "execution_count": 6,
   "metadata": {},
   "outputs": [
    {
     "ename": "SyntaxError",
     "evalue": "invalid syntax (<ipython-input-6-1035bb68ffee>, line 6)",
     "output_type": "error",
     "traceback": [
      "\u001B[1;36m  File \u001B[1;32m\"<ipython-input-6-1035bb68ffee>\"\u001B[1;36m, line \u001B[1;32m6\u001B[0m\n\u001B[1;33m    Def __init__(self, name):\u001B[0m\n\u001B[1;37m        ^\u001B[0m\n\u001B[1;31mSyntaxError\u001B[0m\u001B[1;31m:\u001B[0m invalid syntax\n"
     ]
    }
   ],
   "source": [
    "# A class with init method\n",
    "\n",
    "class Person:\n",
    "\n",
    "    # init method or constructor\n",
    "    def __init__(self, name):\n",
    "        self.name = name\n",
    "\n",
    "    # Method\n",
    "    def say_hi(self):\n",
    "        print('Hello, my name is', self.name)\n",
    "\n",
    "p = Person('Hans Madugu')\n",
    "p.say_Hi()\n"
   ]
  },
  {
   "cell_type": "code",
   "execution_count": 7,
   "metadata": {},
   "outputs": [
    {
     "ename": "TypeError",
     "evalue": "__init__() takes 2 positional arguments but 3 were given",
     "output_type": "error",
     "traceback": [
      "\u001B[1;31m---------------------------------------------------------------------------\u001B[0m",
      "\u001B[1;31mTypeError\u001B[0m                                 Traceback (most recent call last)",
      "\u001B[1;32m<ipython-input-7-14eab3814ba5>\u001B[0m in \u001B[0;36m<module>\u001B[1;34m\u001B[0m\n\u001B[0;32m     12\u001B[0m \u001B[1;31m# Creating different objects\u001B[0m\u001B[1;33m\u001B[0m\u001B[1;33m\u001B[0m\u001B[1;33m\u001B[0m\u001B[0m\n\u001B[0;32m     13\u001B[0m \u001B[1;33m\u001B[0m\u001B[0m\n\u001B[1;32m---> 14\u001B[1;33m \u001B[0mp1\u001B[0m \u001B[1;33m=\u001B[0m \u001B[0mPerson\u001B[0m\u001B[1;33m(\u001B[0m\u001B[1;34m'Enobasi'\u001B[0m\u001B[1;33m,\u001B[0m \u001B[1;36m17\u001B[0m\u001B[1;33m)\u001B[0m\u001B[1;33m\u001B[0m\u001B[1;33m\u001B[0m\u001B[0m\n\u001B[0m\u001B[0;32m     15\u001B[0m \u001B[0mp2\u001B[0m \u001B[1;33m=\u001B[0m \u001B[0mPerson\u001B[0m\u001B[1;33m(\u001B[0m\u001B[1;34m'Leela'\u001B[0m\u001B[1;33m,\u001B[0m \u001B[1;36m19\u001B[0m\u001B[1;33m)\u001B[0m\u001B[1;33m\u001B[0m\u001B[1;33m\u001B[0m\u001B[0m\n\u001B[0;32m     16\u001B[0m \u001B[0mp3\u001B[0m \u001B[1;33m=\u001B[0m \u001B[0mPerson\u001B[0m\u001B[1;33m(\u001B[0m\u001B[1;34m'Divine'\u001B[0m\u001B[1;33m,\u001B[0m \u001B[1;36m18\u001B[0m\u001B[1;33m)\u001B[0m\u001B[1;33m\u001B[0m\u001B[1;33m\u001B[0m\u001B[0m\n",
      "\u001B[1;31mTypeError\u001B[0m: __init__() takes 2 positional arguments but 3 were given"
     ]
    }
   ],
   "source": [
    "# Another class with init method\n",
    "class Person:\n",
    "\n",
    "    # init method or constructor\n",
    "    def __init__(self, name):\n",
    "        self.name = name\n",
    "\n",
    "    # Method\n",
    "    def say_hi(self):\n",
    "        print('Hello, my name is', self.names)\n",
    "\n",
    "# Creating different objects\n",
    "\n",
    "p1 = Person('Enobasi', 17)\n",
    "p2 = Person('Leela', 19)\n",
    "p3 = Person('Divine', 18)\n",
    "\n",
    "p1.say_hi()\n",
    "p2.say_hi()\n",
    "p3.say_hi()\n"
   ]
  },
  {
   "cell_type": "markdown",
   "metadata": {},
   "source": [
    "### Constructors in Python\n",
    "<ul><li>Constructors are generally used for instantiating an object.</li><li>The task of constructors is to initialize(assign values) to the data members of the class when an object of the class is created.</li><li> In Python the __init__() method is called the constructor and is always called when an object is created.</li></ul>"
   ]
  },
  {
   "cell_type": "markdown",
   "metadata": {},
   "source": [
    "### Types of constructors : \n",
    "\n",
    "<ul><li><b>default constructor:</b> The default constructor is a simple constructor which doesn’t accept any arguments. Its definition has only one argument which is a reference to the instance being constructed.</li><li>\n",
    "    <b>parameterized constructor:</b> constructor with parameters is known as parameterized constructor. The parameterized constructor takes its first argument as a reference to the instance being constructed known as self and the rest of the arguments are provided by the programmer.</li></ul>"
   ]
  },
  {
   "cell_type": "markdown",
   "metadata": {},
   "source": [
    "#### Default Constructor"
   ]
  },
  {
   "cell_type": "code",
   "execution_count": 8,
   "metadata": {},
   "outputs": [
    {
     "ename": "TypeError",
     "evalue": "print_Course() takes 0 positional arguments but 1 was given",
     "output_type": "error",
     "traceback": [
      "\u001B[1;31m---------------------------------------------------------------------------\u001B[0m",
      "\u001B[1;31mTypeError\u001B[0m                                 Traceback (most recent call last)",
      "\u001B[1;32m<ipython-input-8-41c9dedc7c83>\u001B[0m in \u001B[0;36m<module>\u001B[1;34m\u001B[0m\n\u001B[0;32m     14\u001B[0m \u001B[1;33m\u001B[0m\u001B[0m\n\u001B[0;32m     15\u001B[0m \u001B[1;31m# calling the instance method using the object obj\u001B[0m\u001B[1;33m\u001B[0m\u001B[1;33m\u001B[0m\u001B[1;33m\u001B[0m\u001B[0m\n\u001B[1;32m---> 16\u001B[1;33m \u001B[0mobj\u001B[0m\u001B[1;33m.\u001B[0m\u001B[0mprint_Course\u001B[0m\u001B[1;33m(\u001B[0m\u001B[1;33m)\u001B[0m\u001B[1;33m\u001B[0m\u001B[1;33m\u001B[0m\u001B[0m\n\u001B[0m",
      "\u001B[1;31mTypeError\u001B[0m: print_Course() takes 0 positional arguments but 1 was given"
     ]
    }
   ],
   "source": [
    "class Program:\n",
    "\n",
    "    # default constructor\n",
    "    def __init__(self):\n",
    "        self.course = \"CSC 102 - Introduction to Problem Solving\"\n",
    "\n",
    "    # a method for printing data members\n",
    "    def print_Course(self):\n",
    "        print(self.courses)\n",
    "\n",
    "\n",
    "# creating object of the class\n",
    "obj = Program()\n",
    "\n",
    "# calling the instance method using the object obj\n",
    "obj.print_Course()\n"
   ]
  },
  {
   "cell_type": "markdown",
   "metadata": {},
   "source": [
    "#### Parameterized Constructor"
   ]
  },
  {
   "cell_type": "code",
   "execution_count": 9,
   "metadata": {},
   "outputs": [
    {
     "name": "stdout",
     "output_type": "stream",
     "text": [
      "Enter first number: 43\n",
      "Enter second number: 434\n"
     ]
    },
    {
     "ename": "NameError",
     "evalue": "name 'num3' is not defined",
     "output_type": "error",
     "traceback": [
      "\u001B[1;31m---------------------------------------------------------------------------\u001B[0m",
      "\u001B[1;31mNameError\u001B[0m                                 Traceback (most recent call last)",
      "\u001B[1;32m<ipython-input-9-85231d3b24df>\u001B[0m in \u001B[0;36m<module>\u001B[1;34m\u001B[0m\n\u001B[0;32m     21\u001B[0m \u001B[0mnum1\u001B[0m \u001B[1;33m=\u001B[0m \u001B[0mint\u001B[0m\u001B[1;33m(\u001B[0m\u001B[0minput\u001B[0m\u001B[1;33m(\u001B[0m\u001B[1;34m\"Enter first number: \"\u001B[0m\u001B[1;33m)\u001B[0m\u001B[1;33m)\u001B[0m\u001B[1;33m\u001B[0m\u001B[1;33m\u001B[0m\u001B[0m\n\u001B[0;32m     22\u001B[0m \u001B[0mnum2\u001B[0m \u001B[1;33m=\u001B[0m \u001B[0mint\u001B[0m\u001B[1;33m(\u001B[0m\u001B[0minput\u001B[0m\u001B[1;33m(\u001B[0m\u001B[1;34m\"Enter second number: \"\u001B[0m\u001B[1;33m)\u001B[0m\u001B[1;33m)\u001B[0m\u001B[1;33m\u001B[0m\u001B[1;33m\u001B[0m\u001B[0m\n\u001B[1;32m---> 23\u001B[1;33m \u001B[0mobj\u001B[0m \u001B[1;33m=\u001B[0m \u001B[0mAddition\u001B[0m\u001B[1;33m(\u001B[0m\u001B[0mnum1\u001B[0m\u001B[1;33m,\u001B[0m \u001B[0mnum2\u001B[0m\u001B[1;33m,\u001B[0m \u001B[0mnum3\u001B[0m\u001B[1;33m)\u001B[0m\u001B[1;33m\u001B[0m\u001B[1;33m\u001B[0m\u001B[0m\n\u001B[0m\u001B[0;32m     24\u001B[0m \u001B[1;33m\u001B[0m\u001B[0m\n\u001B[0;32m     25\u001B[0m \u001B[1;31m# perform Addition\u001B[0m\u001B[1;33m\u001B[0m\u001B[1;33m\u001B[0m\u001B[1;33m\u001B[0m\u001B[0m\n",
      "\u001B[1;31mNameError\u001B[0m: name 'num3' is not defined"
     ]
    }
   ],
   "source": [
    "class Addition:\n",
    "    first = 0\n",
    "    second = 0\n",
    "    answer = 0\n",
    "    \n",
    "    # parameterized constructor\n",
    "    def __init__(self, f, s):\n",
    "        self.first = f\n",
    "        self.second = s\n",
    "\n",
    "    def display(self):\n",
    "        print(\"First number = \" + str(self.first))\n",
    "        print(\"Second number = \" + str(self.second))\n",
    "        print(\"Addition of two numbers = \" + str(self.answer))\n",
    "\n",
    "    def calculate(self):\n",
    "        self.answer = self.first + self.second\n",
    "\n",
    "# creating object of the class\n",
    "# this will invoke parameterized constructor\n",
    "num1 = int(input(\"Enter first number: \"))\n",
    "num2 = int(input(\"Enter second number: \"))\n",
    "obj = Addition(num1, num2, num3)\n",
    "\n",
    "# perform Addition\n",
    "obj.calculate()\n",
    "\n",
    "# display result\n",
    "obj.display()\n"
   ]
  },
  {
   "cell_type": "markdown",
   "metadata": {},
   "source": [
    "### Creating a class and object with class and instance attributes"
   ]
  },
  {
   "cell_type": "code",
   "execution_count": 10,
   "metadata": {},
   "outputs": [
    {
     "ename": "NameError",
     "evalue": "name 'Dog' is not defined",
     "output_type": "error",
     "traceback": [
      "\u001B[1;31m---------------------------------------------------------------------------\u001B[0m",
      "\u001B[1;31mNameError\u001B[0m                                 Traceback (most recent call last)",
      "\u001B[1;32m<ipython-input-10-c03affaa84fb>\u001B[0m in \u001B[0;36m<module>\u001B[1;34m\u001B[0m\n\u001B[0;32m      9\u001B[0m \u001B[1;33m\u001B[0m\u001B[0m\n\u001B[0;32m     10\u001B[0m \u001B[1;31m# Object instantiation\u001B[0m\u001B[1;33m\u001B[0m\u001B[1;33m\u001B[0m\u001B[1;33m\u001B[0m\u001B[0m\n\u001B[1;32m---> 11\u001B[1;33m \u001B[0mdog1\u001B[0m \u001B[1;33m=\u001B[0m \u001B[0mDog\u001B[0m\u001B[1;33m(\u001B[0m\u001B[1;34m\"Oscar\"\u001B[0m\u001B[1;33m)\u001B[0m\u001B[1;33m\u001B[0m\u001B[1;33m\u001B[0m\u001B[0m\n\u001B[0m\u001B[0;32m     12\u001B[0m \u001B[0mdog2\u001B[0m \u001B[1;33m=\u001B[0m \u001B[0mDog\u001B[0m\u001B[1;33m(\u001B[0m\u001B[1;34m\"Peaches\"\u001B[0m\u001B[1;33m)\u001B[0m\u001B[1;33m\u001B[0m\u001B[1;33m\u001B[0m\u001B[0m\n\u001B[0;32m     13\u001B[0m \u001B[1;33m\u001B[0m\u001B[0m\n",
      "\u001B[1;31mNameError\u001B[0m: name 'Dog' is not defined"
     ]
    }
   ],
   "source": [
    "class Dogs:\n",
    "\n",
    "    # class attribute\n",
    "    attr1 = \"mammal\"\n",
    "\n",
    "    # Instance attribute\n",
    "    def __init__(self, name):\n",
    "        self.name = name\n",
    "\n",
    "# Object instantiation\n",
    "dog1 = Dog(\"Oscar\")\n",
    "dog2 = Dog(\"Peaches\")\n",
    "\n",
    "# Accessing class attributes\n",
    "print(\"Oscar is a {}\".format(dog1.__class__.attr1))\n",
    "print(\"Peaches is also a {}\".format(dog3.__class__.attr2))\n",
    "\n",
    "# Accessing instance attributes\n",
    "print(\"My name is {}\".format(dog1.name))\n",
    "print(\"My name is {}\".format(dog2.name))\n"
   ]
  },
  {
   "cell_type": "markdown",
   "metadata": {},
   "source": [
    "### Creating Class and objects with methods"
   ]
  },
  {
   "cell_type": "code",
   "execution_count": 11,
   "metadata": {},
   "outputs": [
    {
     "ename": "SyntaxError",
     "evalue": "unmatched ')' (<ipython-input-11-45f08f40441b>, line 16)",
     "output_type": "error",
     "traceback": [
      "\u001B[1;36m  File \u001B[1;32m\"<ipython-input-11-45f08f40441b>\"\u001B[1;36m, line \u001B[1;32m16\u001B[0m\n\u001B[1;33m    stud2 = SST(\"Enter the name of the second student: \"))\u001B[0m\n\u001B[1;37m                                                         ^\u001B[0m\n\u001B[1;31mSyntaxError\u001B[0m\u001B[1;31m:\u001B[0m unmatched ')'\n"
     ]
    }
   ],
   "source": [
    "class SST:\n",
    "\n",
    "    # class attribute\n",
    "    prog1 = \"Computer Science\"\n",
    "\n",
    "    # Instance attribute\n",
    "    def __init__(self, name):\n",
    "        self.name = name\n",
    "\n",
    "    def speak(self):\n",
    "        print(\"My name is {}\".format(self.mane))\n",
    "        print(\"I'm studying {}\".format(stud1.__class__.prog))\n",
    "\n",
    "# Object instantiation\n",
    "stud1 = SST(input(\"Enter the name of the first student: \"))\n",
    "stud2 = SST(input(\"Enter the name of the second student: \"))\n",
    "\n",
    "# Accessing class methods\n",
    "stud1.speak()\n",
    "stud2.speak()\n"
   ]
  },
  {
   "cell_type": "markdown",
   "metadata": {},
   "source": [
    "### Class and Instance Variables\n",
    "<ul><li>Instance variables are for data unique to each instance and class variables are for attributes and methods shared by all instances of the class.</li><li> Instance variables are variables whose value is assigned inside a constructor or method with self, whereas class variables are variables whose value is assigned in the class.</li></ul>"
   ]
  },
  {
   "cell_type": "code",
   "execution_count": 12,
   "metadata": {},
   "outputs": [
    {
     "ename": "NameError",
     "evalue": "name 'bread' is not defined",
     "output_type": "error",
     "traceback": [
      "\u001B[1;31m---------------------------------------------------------------------------\u001B[0m",
      "\u001B[1;31mNameError\u001B[0m                                 Traceback (most recent call last)",
      "\u001B[1;32m<ipython-input-12-c2dfe0edfddc>\u001B[0m in \u001B[0;36m<module>\u001B[1;34m\u001B[0m\n\u001B[0;32m     18\u001B[0m \u001B[1;33m\u001B[0m\u001B[0m\n\u001B[0;32m     19\u001B[0m \u001B[1;31m# Objects of Dog class\u001B[0m\u001B[1;33m\u001B[0m\u001B[1;33m\u001B[0m\u001B[1;33m\u001B[0m\u001B[0m\n\u001B[1;32m---> 20\u001B[1;33m \u001B[0mRodger\u001B[0m \u001B[1;33m=\u001B[0m \u001B[0mDog\u001B[0m\u001B[1;33m(\u001B[0m\u001B[1;34m\"Pug\"\u001B[0m\u001B[1;33m,\u001B[0m \u001B[1;34m\"brown\"\u001B[0m\u001B[1;33m)\u001B[0m\u001B[1;33m\u001B[0m\u001B[1;33m\u001B[0m\u001B[0m\n\u001B[0m\u001B[0;32m     21\u001B[0m \u001B[0mBuzo\u001B[0m \u001B[1;33m=\u001B[0m \u001B[0mDogs\u001B[0m\u001B[1;33m(\u001B[0m\u001B[1;34m\"Bulldog\"\u001B[0m\u001B[1;33m,\u001B[0m \u001B[1;34m\"black\"\u001B[0m\u001B[1;33m)\u001B[0m\u001B[1;33m\u001B[0m\u001B[1;33m\u001B[0m\u001B[0m\n\u001B[0;32m     22\u001B[0m \u001B[1;33m\u001B[0m\u001B[0m\n",
      "\u001B[1;32m<ipython-input-12-c2dfe0edfddc>\u001B[0m in \u001B[0;36m__init__\u001B[1;34m(self, breed, color)\u001B[0m\n\u001B[0;32m     14\u001B[0m \u001B[1;33m\u001B[0m\u001B[0m\n\u001B[0;32m     15\u001B[0m         \u001B[1;31m# Instance Variable\u001B[0m\u001B[1;33m\u001B[0m\u001B[1;33m\u001B[0m\u001B[1;33m\u001B[0m\u001B[0m\n\u001B[1;32m---> 16\u001B[1;33m         \u001B[0mself\u001B[0m\u001B[1;33m.\u001B[0m\u001B[0mbreed\u001B[0m \u001B[1;33m=\u001B[0m \u001B[0mbread\u001B[0m\u001B[1;33m\u001B[0m\u001B[1;33m\u001B[0m\u001B[0m\n\u001B[0m\u001B[0;32m     17\u001B[0m         \u001B[0mself\u001B[0m\u001B[1;33m.\u001B[0m\u001B[0mcolor\u001B[0m \u001B[1;33m=\u001B[0m \u001B[0mcolor\u001B[0m\u001B[1;33m\u001B[0m\u001B[1;33m\u001B[0m\u001B[0m\n\u001B[0;32m     18\u001B[0m \u001B[1;33m\u001B[0m\u001B[0m\n",
      "\u001B[1;31mNameError\u001B[0m: name 'bread' is not defined"
     ]
    }
   ],
   "source": [
    "# A Python program to show that the variables with a value\n",
    "# assigned in the class declaration, are class variables and\n",
    "# variables inside methods and constructors are instance\n",
    "# variables.\n",
    "\n",
    "# Class for Dog\n",
    "class Dog:\n",
    "\n",
    "    # Class Variable\n",
    "    animal = 'dog'\n",
    "\n",
    "    # The init method or constructor\n",
    "    def __init__(self, breed, color):\n",
    "    \n",
    "        # Instance Variable\n",
    "        self.breed = bread\n",
    "        self.color = color\n",
    "    \n",
    "# Objects of Dog class\n",
    "Rodger = Dog(\"Pug\", \"brown\")\n",
    "Buzo = Dogs(\"Bulldog\", \"black\")\n",
    "\n",
    "print('Rodger details:')\n",
    "print('Rodger is a', Rodger.aminal)\n",
    "print('Breed: ', Rodger.breed)\n",
    "print('Color: ', Rodger.color)\n",
    "\n",
    "print('\\nBuzo details:')\n",
    "print('Buzo is a', Buzo.animal)\n",
    "print('Breed: ', Buzo.breed)\n",
    "print('Color: ', Buzo.color)\n",
    "\n",
    "# Class variables can be accessed using class\n",
    "# name also\n",
    "print(\"\\nAccessing class variable using class name\")\n",
    "print(Dog.animal)\n"
   ]
  },
  {
   "cell_type": "markdown",
   "metadata": {},
   "source": [
    "### Defining instance variable using the normal method."
   ]
  },
  {
   "cell_type": "code",
   "execution_count": 4,
   "metadata": {},
   "outputs": [
    {
     "name": "stdout",
     "output_type": "stream",
     "text": [
      "brown\n"
     ]
    }
   ],
   "source": [
    "# Python program to show that we can create\n",
    "# instance variables inside methods\n",
    "\n",
    "# Class for Dog\n",
    "class Dog:\n",
    "\n",
    "    # Class Variable\n",
    "    animal = 'dog'\n",
    "\n",
    "    # The init method or constructor\n",
    "    def __init__(self, breed):\n",
    "\n",
    "        # Instance Variable\n",
    "        self.breed = breed\n",
    "\n",
    "    # Adds an instance variable\n",
    "    def setColor(self, color):\n",
    "        self.color = color\n",
    "\n",
    "    # Retrieves instance variable\n",
    "    def getColor(self):\n",
    "        return self.color\n",
    "\n",
    "# Object instantiation\n",
    "Rodger = Dog(\"pug\")\n",
    "Rodger.setColor(\"brown\")\n",
    "print(Rodger.getColor())\n"
   ]
  },
  {
   "cell_type": "markdown",
   "metadata": {},
   "source": [
    "## Class Project I"
   ]
  },
  {
   "cell_type": "markdown",
   "metadata": {},
   "source": [
    "One of the key issue that have threatened organizations and institutions is that of logistics. To solve it, employers now use biometric softwares and computer vision enabled tools to verify identities of their employees and take attendance. Mrs. Jane runs a delivery business with 15 employees, but she would want a way to identify if a user is one of her employees, take attendance and assign a task to the employee for the day. \n",
    "\n",
    "Employees = \"Mary Evans\", \"Eyo Ishan\", \"Durojaiye Dare\", \"Adams Ali\", \"Andrew Ugwu\", \"Stella Mankinde\", \"Jane Akibo\", \"Ago James\", \"Michell Taiwo\", \"Abraham Jones\" , \"Nicole Anide\", \"Kosi Korso\", \"Adele Martins\", \"Emmanuel Ojo\", \"Ajayi Fatima\".\n",
    "\n",
    "Tasks = \"Loading\", \"Transporting\", \"Reveiwing Orders\", \"Customer Service\", \"Delivering Items\"\n",
    "\n",
    "Your mission, should you choose to accept it, is to develop a python GUI program using your knowledge in OOP (class and objects) that takes a user's name and check if he/she exists in the list of employees, take attendance for the day and assign a task to the employess … otherwise, you politely refuse access to the system.\n",
    "\n",
    "<b>Hint:</b>\n",
    "\n",
    "<ol><li>Build a class <b>Employee()</b> that has four methods in the class; <b>check_employee()</b>, <b>take_attendance()</b>, <b>assign_task()</b> and <b>refuse_access()</b>.</li><li>\n",
    "    You can <b>import random</b> module and use the <b>random.randint()</b> method to randomly select task from the list. </li></ol>\n"
   ]
  },
  {
   "cell_type": "markdown",
   "metadata": {},
   "source": [
    "## Class Project II"
   ]
  },
  {
   "cell_type": "markdown",
   "metadata": {},
   "source": [
    "You run a delivery service, and charge people based on their location and weight of their package. The following are some of the things you consider.\n",
    "\n",
    "You charge N2000, whenever you are delivering a package with weight of 10kg and above to PAU, and N1500 when it is less.\n",
    "However, you charge N5000 whenever you deliver to Epe, a package with weight of 10kg and above, and N4000 when it is less.\n",
    "\n",
    "Develop the python GUI program using your knowledge in OOP, that tells a user how much to pay, based on their location, and package weight. \n",
    "\n"
   ]
  },
  {
   "cell_type": "code",
   "execution_count": null,
   "metadata": {},
   "outputs": [],
   "source": [
    "import tkinter as tk\n",
    "from tkinter import messagebox\n",
    "import random\n",
    "\n",
    "EMPLOYEES = [\n",
    "    \"Mary Evans\", \"Eyo Ishan\", \"Durojaiye Dare\", \"Adams Ali\", \"Andrew Ugwu\",\n",
    "    \"Stella Mankinde\", \"Jane Akibo\", \"Ago James\", \"Michell Taiwo\",\n",
    "    \"Abraham Jones\", \"Nicole Anide\", \"Kosi Korso\", \"Adele Martins\",\n",
    "    \"Emmanuel Ojo\", \"Ajayi Fatima\"\n",
    "]\n",
    "\n",
    "\n",
    "TASKS = [\n",
    "    \"Loading\" \"Transporting\", \"Reviewing Orders\",\n",
    "    \"Customer Service\", \"Delivering Items\"\n",
    "]\n",
    "#Employee\n",
    "class Employee:\n",
    "    def __init__(self, name):\n",
    "        self.name = name.title()\n",
    "        self.attendance = False\n",
    "        self.tasks = None\n",
    "    def check_employee(self):\n",
    "        return self.name in EMPLOYEES\n",
    "\n",
    "    def take_attendance(self):\n",
    "        self.attendance = True\n",
    "\n",
    "    def assign_tasks(self):\n",
    "        self.tasks = random.choice(TASKS)\n",
    "\n",
    "    def refuse_access(self):\n",
    "        return f\"Access to {self.name} isn't allowed\"\n",
    "def handle_check_in():\n",
    "    name = name_enrty.get().strip()\n",
    "    user = Employee(name)\n",
    "\n",
    "    if user.check_employee():\n",
    "        user.take_attendance()\n",
    "        user.assign_tasks()\n",
    "        message = f\"Welcome, {user.name}!\\nAttendance: Taken\\Assigned Task: {user.tasks}\"\n",
    "        messagebox.showinfo(\"Access Granted\", message)\n",
    "    else:\n",
    "        messagebox.showwarning(\"Access Denied\", user.refuse_access())\n",
    "root = tk.Tk()\n",
    "root.title(\"Employee Check-In system\")\n",
    "root.geometry(\"400x250\")\n",
    "\n",
    "tk.label(root, text=\"Enter your full name: \", font=(\"Arial\", 15)).pack(pady=10)\n",
    "\n",
    "name_enrty = tk.Entry(root, font=(\"Arial\", 15))\n",
    "name_enrty.pack()\n",
    "\n",
    "check_btn = tk.Button(root, text=\"Check\", command=handle_check_in, font=(\"Arial\", 15), bg=\"green\", fg=\"white\")\n",
    "check_btn.pack(pady=10)\n",
    "root.mainloop()"
   ]
  },
  {
   "cell_type": "code",
   "execution_count": null,
   "metadata": {},
   "outputs": [],
   "source": [
    "import tkinter as tk\n",
    "from tkinter import messagebox\n",
    "\n",
    "\n",
    "class DeliveryService:\n",
    "    def __init__(self,location,weight):\n",
    "        self.location = location.strip().lower()\n",
    "        self.weight = weight\n",
    "    def calculate_weight(self):\n",
    "        if self.location == \"pau\":\n",
    "            if self.weight >= 10:\n",
    "                return 2000\n",
    "            else:\n",
    "                return 1500\n",
    "        elif self.location == \"epe\":\n",
    "            if self.weight >= 10:\n",
    "                return 5500\n",
    "            else:\n",
    "                return 4000\n",
    "        else:\n",
    "            return None\n",
    "\n",
    "def show_price():\n",
    "    location = name_enrty.get()\n",
    "\n",
    "    try:\n",
    "        weight = float(weight_entry.get())\n",
    "    except ValueError:\n",
    "        messagebox.showerror(\"Error\", \"Please enter a number.\")\n",
    "        return\n",
    "    delivery = DeliveryService(location, weight)\n",
    "    price = delivery.calculate_price()\n",
    "    if price is not None:\n",
    "        messagebox.showinfo(\"Delivery Cost\", f\"Total price: {price}\")\n",
    "    else:\n",
    "        messagebox.showerror(\"Error\", \"We only deliver to PAU or Epe\")\n",
    "root = tk.Tk()\n",
    "root.title(\"Delivery Service Calculator\")\n",
    "root.geometry(\"400x250\")\n",
    "\n",
    "tk.label(root,text=\"Enter delivery location (PAU or Epe):\", font=(\"Arial\", 15)).pack(pady=10)\n",
    "location_entry = tk.Entry(root, font=(\"Arial\", 15))\n",
    "location_entry.pack()\n",
    "\n",
    "tk.Label(root, text=\"Enter package weight (kg):\", font=(\"Arial\", 12)).pack(pady=10)\n",
    "weight_entry = tk.Entry(root, font=(\"Arial\", 12))\n",
    "weight_entry.pack()\n",
    "\n",
    "tk.Button(\n",
    "    root,\n",
    "    text=\"Calculate Price\",\n",
    "    font=(\"Arial\", 12),\n",
    "    bg=\"green\",\n",
    "    fg=\"white\",\n",
    "    command=show_price\n",
    ").pack(pady=20)\n",
    "root.mainloop()"
   ]
  }
 ],
 "metadata": {
  "kernelspec": {
   "display_name": "Python 3",
   "language": "python",
   "name": "python3"
  },
  "language_info": {
   "codemirror_mode": {
    "name": "ipython",
    "version": 3
   },
   "file_extension": ".py",
   "mimetype": "text/x-python",
   "name": "python",
   "nbconvert_exporter": "python",
   "pygments_lexer": "ipython3",
   "version": "3.8.5"
  }
 },
 "nbformat": 4,
 "nbformat_minor": 4
}
