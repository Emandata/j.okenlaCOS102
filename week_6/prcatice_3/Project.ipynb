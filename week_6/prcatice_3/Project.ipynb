{
 "cells": [
  {
   "cell_type": "code",
   "execution_count": null,
   "id": "initial_id",
   "metadata": {
    "collapsed": true
   },
   "outputs": [],
   "source": [
    "import tkinter as tk\n",
    "from tkinter import messagebox\n",
    "import pandas as pd\n",
    "\n",
    "# Load employee data\n",
    "df = pd.read_csv(\"GIG-logistics.csv\")\n",
    "\n",
    "def submit():\n",
    "    name = name_entry.get().strip()\n",
    "    department = dept_entry.get().strip()\n",
    "\n",
    "    # Check if employee exists\n",
    "    matched = df[(df['Name'].str.lower() == name.lower()) &\n",
    "                 (df['Department'].str.lower() == department.lower())]\n",
    "\n",
    "    if not matched.empty:\n",
    "        # Greet employee\n",
    "        msg = f\"Welcome, {name}!\\n\\nOther employees in {department}:\\n\"\n",
    "        others = df[(df['Department'].str.lower() == department.lower()) &\n",
    "                    (df['Name'].str.lower() != name.lower())]['Name'].tolist()\n",
    "        msg += \"\\n\".join(others) if others else \"No other employees found in this department.\"\n",
    "        messagebox.showinfo(\"Employee Found\", msg)\n",
    "    else:\n",
    "        messagebox.showwarning(\"Not Found\", \"Sorry, this employee does not exist.\")\n",
    "\n",
    "# Create GUI\n",
    "root = tk.Tk()\n",
    "root.title(\"Employee Verification\")\n",
    "root.geometry(\"400x200\")\n",
    "\n",
    "tk.Label(root, text=\"Enter Name:\").pack()\n",
    "name_entry = tk.Entry(root)\n",
    "name_entry.pack()\n",
    "\n",
    "tk.Label(root, text=\"Enter Department:\").pack()\n",
    "dept_entry = tk.Entry(root)\n",
    "dept_entry.pack()\n",
    "\n",
    "tk.Button(root, text=\"Submit\", command=submit).pack()\n",
    "\n",
    "root.mainloop()\n"
   ]
  }
 ],
 "metadata": {
  "kernelspec": {
   "display_name": "Python 3",
   "language": "python",
   "name": "python3"
  },
  "language_info": {
   "codemirror_mode": {
    "name": "ipython",
    "version": 2
   },
   "file_extension": ".py",
   "mimetype": "text/x-python",
   "name": "python",
   "nbconvert_exporter": "python",
   "pygments_lexer": "ipython2",
   "version": "2.7.6"
  }
 },
 "nbformat": 4,
 "nbformat_minor": 5
}
