{
 "cells": [
  {
   "cell_type": "code",
   "id": "initial_id",
   "metadata": {
    "collapsed": true,
    "jupyter": {
     "is_executing": true
    }
   },
   "source": [
    "import tkinter as tk\n",
    "from tkinter import messagebox as msgbox\n",
    "# Handling button click event\n",
    "def button_click():\n",
    "    #print(\"Button clicked!\")\n",
    "\n",
    "    #Show an information message box\n",
    "    msgbox.showinfo(\"Info\", \"Welcome to COS102 GUI App!\\n\")\n",
    "\n",
    "    # Ask for usr confirmation\n",
    "    result= msgbox.askyesno(\"Confirmation\", \"Do you want to continue?\")\n",
    "\n",
    "    # Create the main window\n",
    "root = tk.Tk()\n",
    "root.title(\"Home page\")\n",
    "root.geomtry(\"300x100\")\n",
    "#Add a label widget\n",
    "label = tk.label(root, text=\"Hello Friend/n\")\n",
    "label.pack()\n",
    "\n",
    "#Add a button widget\n",
    "button = tk.Button(root, text=\"Click Me\", command=button_click)\n",
    "button.pack()\n",
    "#styling the button widget\n",
    "button.config(\"red\", bg=\"yellow\")\n",
    "#Start the event loop\n",
    "root.mainloop()\n",
    "\n",
    "\n",
    "\n",
    "\n",
    "\n"
   ],
   "outputs": [],
   "execution_count": null
  },
  {
   "metadata": {},
   "cell_type": "code",
   "outputs": [],
   "execution_count": null,
   "source": "",
   "id": "665093de5607d962"
  }
 ],
 "metadata": {
  "kernelspec": {
   "display_name": "Python 3",
   "language": "python",
   "name": "python3"
  },
  "language_info": {
   "codemirror_mode": {
    "name": "ipython",
    "version": 2
   },
   "file_extension": ".py",
   "mimetype": "text/x-python",
   "name": "python",
   "nbconvert_exporter": "python",
   "pygments_lexer": "ipython2",
   "version": "2.7.6"
  }
 },
 "nbformat": 4,
 "nbformat_minor": 5
}
