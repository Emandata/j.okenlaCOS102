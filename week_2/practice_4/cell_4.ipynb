{
 "cells": [
  {
   "cell_type": "code",
   "execution_count": null,
   "id": "initial_id",
   "metadata": {
    "collapsed": true
   },
   "outputs": [],
   "source": [
    "# Returns false as game_1 is not equal to game_2\n",
    "game_1 = 2\n",
    "game_2 = 4\n",
    "print(bool(game_1 == game_2))  # Compares game_1 and game_2, returns False because 2 is not equal to 4.\n",
    "# Or\n",
    "print(game_1 == game_2)  # Directly evaluates the comparison, output is also False.\n",
    "\n",
    "# Returns False as val is None\n",
    "val = None\n",
    "print(bool(val))  # Evaluates None, which is always considered False in Boolean context.\n",
    "\n",
    "# Returns false as num is an empty sequence\n",
    "num = ()\n",
    "print(bool(num))  # Evaluates an empty tuple `()`, which is False because empty sequences are False.\n",
    "\n",
    "# Returns true as age is boolean\n",
    "age = True\n",
    "print(bool(age))  # Evaluates `True`, which is already a Boolean and is True in Boolean context.\n"
   ]
  }
 ],
 "metadata": {
  "kernelspec": {
   "display_name": "Python 3",
   "language": "python",
   "name": "python3"
  },
  "language_info": {
   "codemirror_mode": {
    "name": "ipython",
    "version": 2
   },
   "file_extension": ".py",
   "mimetype": "text/x-python",
   "name": "python",
   "nbconvert_exporter": "python",
   "pygments_lexer": "ipython2",
   "version": "2.7.6"
  }
 },
 "nbformat": 4,
 "nbformat_minor": 5
}
